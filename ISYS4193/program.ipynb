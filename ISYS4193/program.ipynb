{
 "cells": [
  {
   "cell_type": "code",
   "execution_count": 1,
   "metadata": {},
   "outputs": [],
   "source": [
    "import pandas as pd\n",
    "import numpy as np\n",
    "import string"
   ]
  },
  {
   "cell_type": "code",
   "execution_count": 2,
   "metadata": {},
   "outputs": [
    {
     "data": {
      "text/plain": [
       "Index(['index', 'Time', 'Operator', 'Type', 'Aboard', 'Fatalities', 'Ground',\n",
       "       'Summary', 'Total Deaths', 'Death Rate', 'Survival Rate', 'location1',\n",
       "       'location2', 'location3', 'location4', 'route1', 'route2', 'route3',\n",
       "       'route4', 'route5', 'route6', 'day', 'month', 'year'],\n",
       "      dtype='object')"
      ]
     },
     "execution_count": 2,
     "metadata": {},
     "output_type": "execute_result"
    }
   ],
   "source": [
    "#read .csv file\n",
    "df = pd.read_csv('DATA_CLEANED_EXTRACTED_DATES.csv')\n",
    "df.columns"
   ]
  },
  {
   "cell_type": "code",
   "execution_count": 3,
   "metadata": {},
   "outputs": [
    {
     "data": {
      "text/plain": [
       "Index(['index', 'Time', 'Operator', 'Type', 'Aboard', 'Fatalities', 'Ground',\n",
       "       'Summary', 'Total Deaths', 'Death Rate', 'Survival Rate', 'day',\n",
       "       'month', 'year'],\n",
       "      dtype='object')"
      ]
     },
     "execution_count": 3,
     "metadata": {},
     "output_type": "execute_result"
    }
   ],
   "source": [
    "#drop useless columns\n",
    "df = df.drop(columns=['route1', 'route2', 'route3', 'route4', 'route5', 'route6', 'location1', 'location2', 'location3', 'location4'], axis=2)\n",
    "df.columns"
   ]
  },
  {
   "cell_type": "code",
   "execution_count": 4,
   "metadata": {},
   "outputs": [],
   "source": [
    "#create year bracketed dataframes\n",
    "df_08_32 = df.loc[(df['year'] < 1933)]\n",
    "df_33_57 = df.loc[(df['year'] >= 1933) & (df['year'] < 1958)]\n",
    "df_58_83 = df.loc[(df['year'] >= 1958) & (df['year'] < 1984)]\n",
    "df_84_09 = df.loc[(df['year'] >= 1984)]\n"
   ]
  },
  {
   "cell_type": "code",
   "execution_count": 5,
   "metadata": {},
   "outputs": [
    {
     "name": "stdout",
     "output_type": "stream",
     "text": [
      "CountIncidences: 5268\n",
      "engineCount: 571\n",
      "pilotErrorCount: 873\n",
      "weatherCount: 448\n",
      "weatherCount: 448\n",
      "landingCount: 970\n",
      "takeoffCount: 909\n",
      "shotCount: 146\n"
     ]
    }
   ],
   "source": [
    "#Whole dataset keyword analysis on crash summary variable\n",
    "\n",
    "lengthTotal = df.shape[0]\n",
    "engineCountTotal = 0\n",
    "pilotErrorCountTotal = 0\n",
    "weatherCountTotal = 0\n",
    "landingCountTotal = 0\n",
    "takeoffCountTotal = 0\n",
    "collissionCountTotal = 0\n",
    "shotCountTotal = 0\n",
    "\n",
    "\n",
    "for i in range(lengthTotal):\n",
    "\n",
    "    if isinstance(df['Summary'][i], str):\n",
    "        summaryString = df['Summary'][i]\n",
    "        summaryString = summaryString.lower()\n",
    "        summaryString = summaryString.translate(summaryString.maketrans('', '', string.punctuation))\n",
    "        summaryStringList = summaryString.split(' ')\n",
    "\n",
    "        for j in summaryStringList:\n",
    "            if j == \"engine\":\n",
    "                engineCountTotal += 1\n",
    "                break\n",
    "            elif j == \"pilot\" or j == \"error\":\n",
    "                pilotErrorCountTotal += 1\n",
    "                break\n",
    "            elif j == \"weather\":\n",
    "                weatherCountTotal += 1\n",
    "            elif j == \"landing\" or j == \"land\":\n",
    "                landingCountTotal += 1\n",
    "            elif j == \"takeoff\" or j == \"taking\":\n",
    "                takeoffCountTotal += 1\n",
    "            elif j == \"shot\":\n",
    "                shotCountTotal += 1\n",
    "    else:\n",
    "        continue\n",
    "\n",
    "print(f\"CountIncidences: {lengthTotal}\")        \n",
    "print(f\"engineCount: {engineCountTotal}\")\n",
    "print(f\"pilotErrorCount: {pilotErrorCountTotal}\")\n",
    "print(f\"weatherCount: {weatherCountTotal}\")\n",
    "print(f\"weatherCount: {weatherCountTotal}\")\n",
    "print(f\"landingCount: {landingCountTotal}\")\n",
    "print(f\"takeoffCount: {takeoffCountTotal}\")\n",
    "print(f\"shotCount: {shotCountTotal}\")\n"
   ]
  },
  {
   "cell_type": "code",
   "execution_count": 6,
   "metadata": {},
   "outputs": [
    {
     "name": "stdout",
     "output_type": "stream",
     "text": [
      "CountIncidences: 290\n",
      "engineCount: 20\n",
      "pilotErrorCount: 12\n",
      "weatherCount: 7\n"
     ]
    }
   ],
   "source": [
    "#keyword analysis on 1908 - 1932\n",
    "\n",
    "length08_33 = df_08_32.shape[0]\n",
    "engineCount08_33 = 0\n",
    "pilotErrorCount08_33 = 0\n",
    "weatherCount08_33 = 0\n",
    "landingCount08_33 = 0\n",
    "takeoffCount08_33 = 0\n",
    "shotCount08_33 = 0\n",
    "\n",
    "for i in range(length08_33):\n",
    "\n",
    "    if isinstance(df_08_32['Summary'][i], str):\n",
    "\n",
    "        summaryString = df_08_32['Summary'][i]\n",
    "        summaryString = summaryString.lower()\n",
    "        summaryString = summaryString.translate(summaryString.maketrans('', '', string.punctuation))\n",
    "        summaryStringList = summaryString.split(' ')\n",
    "\n",
    "        for j in summaryStringList:\n",
    "            if j == \"engine\":\n",
    "                engineCount08_33 += 1\n",
    "                break\n",
    "            elif j == \"pilot\" or j == \"error\":\n",
    "                pilotErrorCount08_33 += 1\n",
    "                break\n",
    "            elif j == \"weather\":\n",
    "                weatherCount08_33 += 1\n",
    "                break\n",
    "            elif j == \"landing\" or j == \"land\":\n",
    "                landingCount08_33 += 1\n",
    "            elif j == \"takeoff\" or j == \"taking\":\n",
    "                takeoffCount08_33 += 1\n",
    "            elif j == \"shot\":\n",
    "                shotCount08_33 += 1\n",
    "    else:\n",
    "        continue\n",
    "\n",
    "\n",
    "print(f\"CountIncidences: {length08_33}\")        \n",
    "print(f\"engineCount: {engineCount08_33}\")\n",
    "print(f\"pilotErrorCount: {pilotErrorCount08_33}\")\n",
    "print(f\"weatherCount: {weatherCount08_33}\")"
   ]
  },
  {
   "cell_type": "code",
   "execution_count": 7,
   "metadata": {},
   "outputs": [
    {
     "name": "stdout",
     "output_type": "stream",
     "text": [
      "CountIncidences: 1223\n",
      "engineCount: 198\n",
      "pilotErrorCount: 294\n",
      "weatherCount: 96\n"
     ]
    }
   ],
   "source": [
    "#keyword analysis on 1933 - 1957\n",
    "\n",
    "length33_57 = df_33_57.shape[0]\n",
    "engineCount33_57 = 0\n",
    "pilotErrorCount33_57 = 0\n",
    "weatherCount33_57 = 0\n",
    "landingCount33_57 = 0\n",
    "takeoffCount33_57 = 0\n",
    "shotCount33_57 = 0\n",
    "\n",
    "for i in range(length33_57):\n",
    "\n",
    "    if isinstance(df_33_57['Summary'].iloc[i], str):\n",
    "\n",
    "        summaryString = df_33_57['Summary'].iloc[i]\n",
    "        summaryString = summaryString.lower()\n",
    "        summaryString = summaryString.translate(summaryString.maketrans('', '', string.punctuation))\n",
    "        summaryStringList = summaryString.split(' ')\n",
    "\n",
    "        for j in summaryStringList:\n",
    "            if j == \"engine\":\n",
    "                engineCount33_57 += 1\n",
    "            elif j == \"pilot\" or j == \"error\":\n",
    "                pilotErrorCount33_57 += 1\n",
    "            elif j == \"weather\":\n",
    "                weatherCount33_57 += 1\n",
    "            elif j == \"landing\" or j == \"land\":\n",
    "                landingCount33_57 += 1\n",
    "            elif j == \"takeoff\" or j == \"taking\":\n",
    "                takeoffCount33_57 += 1\n",
    "            elif j == \"shot\":\n",
    "                shotCount33_57 += 1\n",
    "    else:\n",
    "        continue\n",
    "\n",
    "\n",
    "print(f\"CountIncidences: {length33_57}\")        \n",
    "print(f\"engineCount: {engineCount33_57}\")\n",
    "print(f\"pilotErrorCount: {pilotErrorCount33_57}\")\n",
    "print(f\"weatherCount: {weatherCount33_57}\")"
   ]
  },
  {
   "cell_type": "code",
   "execution_count": 8,
   "metadata": {},
   "outputs": [
    {
     "name": "stdout",
     "output_type": "stream",
     "text": [
      "CountIncidences: 1942\n",
      "engineCount: 311\n",
      "pilotErrorCount: 460\n",
      "weatherCount: 253\n"
     ]
    }
   ],
   "source": [
    "#keyword analysis on 1958 - 1983\n",
    "\n",
    "length58_83 = df_58_83.shape[0]\n",
    "engineCount58_83 = 0\n",
    "pilotErrorCount58_83 = 0\n",
    "weatherCount58_83 = 0\n",
    "landingCount58_83 = 0\n",
    "takeoffCount58_83 = 0\n",
    "shotCount58_83 = 0\n",
    "\n",
    "for i in range(length58_83):\n",
    "\n",
    "    if isinstance(df_58_83['Summary'].iloc[i], str):\n",
    "\n",
    "        summaryString = df_58_83['Summary'].iloc[i]\n",
    "        summaryString = summaryString.lower()\n",
    "        summaryString = summaryString.translate(summaryString.maketrans('', '', string.punctuation))\n",
    "        summaryStringList = summaryString.split(' ')\n",
    "\n",
    "        for j in summaryStringList:\n",
    "            if j == \"engine\":\n",
    "                engineCount58_83 += 1\n",
    "            elif j == \"pilot\" or j == \"error\":\n",
    "                pilotErrorCount58_83 += 1\n",
    "            elif j == \"weather\":\n",
    "                weatherCount58_83 += 1\n",
    "            elif j == \"landing\" or j == \"land\":\n",
    "                landingCount58_83 += 1\n",
    "            elif j == \"takeoff\" or j == \"taking\":\n",
    "                takeoffCount58_83 += 1\n",
    "            elif j == \"shot\":\n",
    "                shotCount58_83 += 1\n",
    "    else:\n",
    "        continue\n",
    "\n",
    "\n",
    "print(f\"CountIncidences: {length58_83}\")        \n",
    "print(f\"engineCount: {engineCount58_83}\")\n",
    "print(f\"pilotErrorCount: {pilotErrorCount58_83}\")\n",
    "print(f\"weatherCount: {weatherCount58_83}\")"
   ]
  },
  {
   "cell_type": "code",
   "execution_count": 9,
   "metadata": {},
   "outputs": [
    {
     "name": "stdout",
     "output_type": "stream",
     "text": [
      "CountIncidences: 1813\n",
      "engineCount: 388\n",
      "pilotErrorCount: 485\n",
      "weatherCount: 246\n"
     ]
    }
   ],
   "source": [
    "#keyword analysis on 1984 - 2009\n",
    "\n",
    "length84_09 = df_84_09.shape[0]\n",
    "engineCount84_09 = 0\n",
    "pilotErrorCount84_09 = 0\n",
    "weatherCount84_09 = 0\n",
    "landingCount84_09 = 0\n",
    "takeoffCount84_09 = 0\n",
    "shotCount84_09 = 0\n",
    "\n",
    "for i in range(length84_09):\n",
    "\n",
    "    if isinstance(df_84_09['Summary'].iloc[i], str):\n",
    "\n",
    "        summaryString = df_84_09['Summary'].iloc[i]\n",
    "        summaryString = summaryString.lower()\n",
    "        summaryString = summaryString.translate(summaryString.maketrans('', '', string.punctuation))\n",
    "        summaryStringList = summaryString.split(' ')\n",
    "\n",
    "        for j in summaryStringList:\n",
    "            if j == \"engine\":\n",
    "                engineCount84_09 += 1\n",
    "            elif j == \"pilot\" or j == \"error\":\n",
    "                pilotErrorCount84_09 += 1\n",
    "            elif j == \"weather\":\n",
    "                weatherCount84_09 += 1\n",
    "            elif j == \"landing\" or j == \"land\":\n",
    "                landingCount84_09 += 1\n",
    "            elif j == \"takeoff\" or j == \"taking\":\n",
    "                takeoffCount84_09 += 1\n",
    "            elif j == \"shot\":\n",
    "                shotCount84_09 += 1\n",
    "    else:\n",
    "        continue\n",
    "\n",
    "\n",
    "print(f\"CountIncidences: {length84_09}\")        \n",
    "print(f\"engineCount: {engineCount84_09}\")\n",
    "print(f\"pilotErrorCount: {pilotErrorCount84_09}\")\n",
    "print(f\"weatherCount: {weatherCount84_09}\")"
   ]
  },
  {
   "cell_type": "code",
   "execution_count": 10,
   "metadata": {},
   "outputs": [
    {
     "name": "stdout",
     "output_type": "stream",
     "text": [
      "------------1908~1933------------\n",
      "CountIncidences: 290\n",
      "engineCount: 20\n",
      "pilotErrorCount: 12\n",
      "weatherCount: 7\n",
      "LandingCount: 26\n",
      "TakeoffCount: 11\n",
      "shotDownCount: 9\n",
      "------------1933~1957------------\n",
      "CountIncidences: 1223\n",
      "engineCount: 198\n",
      "pilotErrorCount: 294\n",
      "weatherCount: 96\n",
      "LandingCount: 259\n",
      "TakeoffCount: 216\n",
      "shotCount: 35\n",
      "------------1957~1983------------\n",
      "CountIncidences: 1942\n",
      "engineCount: 311\n",
      "pilotErrorCount: 460\n",
      "weatherCount: 253\n",
      "LandingCount: 412\n",
      "TakeoffCount: 383\n",
      "shotCount: 42\n",
      "------------1984~2009------------\n",
      "CountIncidences: 1813\n",
      "engineCount: 388\n",
      "pilotErrorCount: 485\n",
      "weatherCount: 246\n",
      "LandingCount: 555\n",
      "TakeoffCount: 496\n",
      "shotCount: 63\n"
     ]
    }
   ],
   "source": [
    "#print table\n",
    "print(f\"------------1908~1933------------\")\n",
    "print(f\"CountIncidences: {length08_33}\")        \n",
    "print(f\"engineCount: {engineCount08_33}\")\n",
    "print(f\"pilotErrorCount: {pilotErrorCount08_33}\")\n",
    "print(f\"weatherCount: {weatherCount08_33}\")\n",
    "print(f\"LandingCount: {landingCount08_33}\")\n",
    "print(f\"TakeoffCount: {takeoffCount08_33}\")\n",
    "print(f\"shotDownCount: {shotCount08_33}\")\n",
    "\n",
    "print(f\"------------1933~1957------------\")\n",
    "print(f\"CountIncidences: {length33_57}\")        \n",
    "print(f\"engineCount: {engineCount33_57}\")\n",
    "print(f\"pilotErrorCount: {pilotErrorCount33_57}\")\n",
    "print(f\"weatherCount: {weatherCount33_57}\")\n",
    "print(f\"LandingCount: {landingCount33_57}\")\n",
    "print(f\"TakeoffCount: {takeoffCount33_57}\")\n",
    "print(f\"shotCount: {shotCount33_57}\")\n",
    "\n",
    "print(f\"------------1957~1983------------\")\n",
    "print(f\"CountIncidences: {length58_83}\")        \n",
    "print(f\"engineCount: {engineCount58_83}\")\n",
    "print(f\"pilotErrorCount: {pilotErrorCount58_83}\")\n",
    "print(f\"weatherCount: {weatherCount58_83}\")\n",
    "print(f\"LandingCount: {landingCount58_83}\")\n",
    "print(f\"TakeoffCount: {takeoffCount58_83}\")\n",
    "print(f\"shotCount: {shotCount58_83}\")\n",
    "\n",
    "print(f\"------------1984~2009------------\")\n",
    "print(f\"CountIncidences: {length84_09}\")        \n",
    "print(f\"engineCount: {engineCount84_09}\")\n",
    "print(f\"pilotErrorCount: {pilotErrorCount84_09}\")\n",
    "print(f\"weatherCount: {weatherCount84_09}\")\n",
    "print(f\"LandingCount: {landingCount84_09}\")\n",
    "print(f\"TakeoffCount: {takeoffCount84_09}\")\n",
    "print(f\"shotCount: {shotCount84_09}\")"
   ]
  }
 ],
 "metadata": {
  "kernelspec": {
   "display_name": "Python 3.11.0 64-bit",
   "language": "python",
   "name": "python3"
  },
  "language_info": {
   "codemirror_mode": {
    "name": "ipython",
    "version": 3
   },
   "file_extension": ".py",
   "mimetype": "text/x-python",
   "name": "python",
   "nbconvert_exporter": "python",
   "pygments_lexer": "ipython3",
   "version": "3.11.0"
  },
  "orig_nbformat": 4,
  "vscode": {
   "interpreter": {
    "hash": "8870eaff1a12d24b7cf34694c062a4d7b067c5b98a465bf5d2e00898460f2016"
   }
  }
 },
 "nbformat": 4,
 "nbformat_minor": 2
}
