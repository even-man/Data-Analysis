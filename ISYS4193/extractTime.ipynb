{
 "cells": [
  {
   "cell_type": "code",
   "execution_count": 1,
   "metadata": {},
   "outputs": [],
   "source": [
    "import pandas as pd\n",
    "import string as str"
   ]
  },
  {
   "cell_type": "code",
   "execution_count": 3,
   "metadata": {},
   "outputs": [
    {
     "data": {
      "text/plain": [
       "Index(['index', 'Date', 'Time', 'TimeSimple', 'Operator', 'Type', 'Aboard',\n",
       "       'Fatalities', 'Ground', 'Summary', 'Total Deaths', 'Death Rate',\n",
       "       'Survival Rate', 'location1', 'location2', 'location3', 'location4',\n",
       "       'route1', 'route2', 'route3', 'route4', 'route5', 'route6'],\n",
       "      dtype='object')"
      ]
     },
     "execution_count": 3,
     "metadata": {},
     "output_type": "execute_result"
    }
   ],
   "source": [
    "cleanData = pd.read_csv('DATA_CLEANED.csv')\n",
    "cleanData.columns"
   ]
  },
  {
   "cell_type": "code",
   "execution_count": 14,
   "metadata": {},
   "outputs": [],
   "source": [
    "cleanData['TimeSimple'] = cleanData['Time'].str.split(':')"
   ]
  },
  {
   "cell_type": "code",
   "execution_count": 15,
   "metadata": {},
   "outputs": [
    {
     "data": {
      "text/plain": [
       "0       [17, 18]\n",
       "1        [6, 30]\n",
       "2            NaN\n",
       "3       [18, 30]\n",
       "4       [10, 30]\n",
       "          ...   \n",
       "5263     [6, 30]\n",
       "5264         NaN\n",
       "5265     [0, 15]\n",
       "5266     [8, 30]\n",
       "5267         NaN\n",
       "Name: TimeSimple, Length: 5268, dtype: object"
      ]
     },
     "execution_count": 15,
     "metadata": {},
     "output_type": "execute_result"
    }
   ],
   "source": [
    "cleanData['TimeSimple']"
   ]
  }
 ],
 "metadata": {
  "kernelspec": {
   "display_name": "Python 3.10.7 64-bit",
   "language": "python",
   "name": "python3"
  },
  "language_info": {
   "codemirror_mode": {
    "name": "ipython",
    "version": 3
   },
   "file_extension": ".py",
   "mimetype": "text/x-python",
   "name": "python",
   "nbconvert_exporter": "python",
   "pygments_lexer": "ipython3",
   "version": "3.10.7"
  },
  "orig_nbformat": 4,
  "vscode": {
   "interpreter": {
    "hash": "e950be2b47d103b900deec71ad9dbb0fb0dc84a7a2a328b393e24d563d2cfa70"
   }
  }
 },
 "nbformat": 4,
 "nbformat_minor": 2
}
