{
 "cells": [
  {
   "cell_type": "code",
   "execution_count": null,
   "metadata": {},
   "outputs": [],
   "source": [
    "import pandas as pd"
   ]
  },
  {
   "cell_type": "code",
   "execution_count": null,
   "metadata": {},
   "outputs": [],
   "source": [
    "#Read in cleaned data from .csv file\n",
    "df_raw = pd.read_csv('DATA_CLEANED.csv')\n",
    "df_raw.head(5)"
   ]
  },
  {
   "cell_type": "code",
   "execution_count": null,
   "metadata": {},
   "outputs": [],
   "source": [
    "#change format of the date column from string format to the pandas date format\n",
    "df_raw['Date'] = pd.to_datetime(df_raw['Date'], format='%m/%d/%Y')"
   ]
  },
  {
   "cell_type": "code",
   "execution_count": null,
   "metadata": {},
   "outputs": [],
   "source": [
    "#create copy of data\n",
    "df_DaysYearsMonths = df_raw\n",
    "\n",
    "#create a new column for day, month, and year by extracting from Date column\n",
    "df_DaysYearsMonths['day'] = df_DaysYearsMonths['Date'].dt.day\n",
    "df_DaysYearsMonths['month'] = df_DaysYearsMonths['Date'].dt.month\n",
    "df_DaysYearsMonths['year'] = df_DaysYearsMonths['Date'].dt.year"
   ]
  },
  {
   "cell_type": "code",
   "execution_count": null,
   "metadata": {},
   "outputs": [],
   "source": [
    "#drop the old Date column and display the new dataframe\n",
    "df_DaysYearsMonths = df_DaysYearsMonths.drop('Date', axis=1)\n",
    "df_DaysYearsMonths.head(5)"
   ]
  },
  {
   "cell_type": "code",
   "execution_count": null,
   "metadata": {},
   "outputs": [],
   "source": [
    "#write dataframe to new csv\n",
    "df_DaysYearsMonths.to_csv('DATA_CLEANED_EXTRACTED_DATES.csv')"
   ]
  }
 ],
 "metadata": {
  "kernelspec": {
   "display_name": "Python 3.10.7 64-bit",
   "language": "python",
   "name": "python3"
  },
  "language_info": {
   "codemirror_mode": {
    "name": "ipython",
    "version": 3
   },
   "file_extension": ".py",
   "mimetype": "text/x-python",
   "name": "python",
   "nbconvert_exporter": "python",
   "pygments_lexer": "ipython3",
   "version": "3.10.7"
  },
  "orig_nbformat": 4,
  "vscode": {
   "interpreter": {
    "hash": "e950be2b47d103b900deec71ad9dbb0fb0dc84a7a2a328b393e24d563d2cfa70"
   }
  }
 },
 "nbformat": 4,
 "nbformat_minor": 2
}
