{
 "cells": [
  {
   "cell_type": "code",
   "execution_count": 43,
   "metadata": {},
   "outputs": [],
   "source": [
    "import requests\n",
    "import json\n",
    "import pandas as pd\n",
    "from key import api_key"
   ]
  },
  {
   "cell_type": "code",
   "execution_count": 44,
   "metadata": {},
   "outputs": [],
   "source": [
    "KEY = api_key()\n",
    "coordinates = (36.06868690827918, -94.227802848225)\n",
    "distance = 2\n",
    "entityID = 6000\n",
    "base_url = 'http://spatial.virtualearth.net/REST/v1/data/Microsoft/PointsOfInterest'\n",
    "query = f\"?spatialFilter=nearby({str(coordinates[0])},{str(coordinates[1])},{str(distance)})&$filter=EntityTypeID%20eq%20'{str(entityID)}'&$format=json&$select=DisplayName,Latitude,Longitude&key={KEY}\""
   ]
  },
  {
   "cell_type": "code",
   "execution_count": 45,
   "metadata": {},
   "outputs": [],
   "source": [
    "r = requests.get(base_url + query)\n",
    "data = r.json()"
   ]
  },
  {
   "cell_type": "code",
   "execution_count": 46,
   "metadata": {},
   "outputs": [],
   "source": [
    "itemData = list()\n",
    "\n",
    "for point in data['d']['results']:\n",
    "    item = list()\n",
    "    item.append(point['DisplayName'])\n",
    "    item.append(point['Latitude'])\n",
    "    item.append(point['Longitude'])\n",
    "    itemData.append(item)\n",
    "\n",
    "dataframe = pd.DataFrame(itemData)\n",
    "dataframe = dataframe.rename(columns={0:'Name',1:'Latitude',2:'Longitude'})\n",
    "dataframe.to_csv('banks.csv')"
   ]
  }
 ],
 "metadata": {
  "kernelspec": {
   "display_name": "Python 3",
   "language": "python",
   "name": "python3"
  },
  "language_info": {
   "codemirror_mode": {
    "name": "ipython",
    "version": 3
   },
   "file_extension": ".py",
   "mimetype": "text/x-python",
   "name": "python",
   "nbconvert_exporter": "python",
   "pygments_lexer": "ipython3",
   "version": "3.11.0 (main, Oct 24 2022, 18:26:48) [MSC v.1933 64 bit (AMD64)]"
  },
  "orig_nbformat": 4,
  "vscode": {
   "interpreter": {
    "hash": "8870eaff1a12d24b7cf34694c062a4d7b067c5b98a465bf5d2e00898460f2016"
   }
  }
 },
 "nbformat": 4,
 "nbformat_minor": 2
}
